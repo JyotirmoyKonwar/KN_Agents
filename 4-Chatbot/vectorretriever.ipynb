{
 "cells": [
  {
   "cell_type": "code",
   "execution_count": 1,
   "id": "e21050f0",
   "metadata": {},
   "outputs": [],
   "source": [
    "from langchain_core.documents import Document\n",
    "\n",
    "documents = [\n",
    "    Document(\n",
    "        page_content=\"Krish Naik is a YouTuber and educator known for his work in the field of data science and machine learning. He creates educational content on platforms like YouTube, where he shares tutorials, courses, and insights related to data science, artificial intelligence, and programming. His videos often cover topics such as Python programming, machine learning algorithms, deep learning, and data visualization. Krish Naik is recognized for his engaging teaching style and practical approach to complex subjects, making them accessible to a wide audience.\",\n",
    "        metadata={\n",
    "            \"source\": \"https://www.youtube.com/@KrishNaik\",\n",
    "            \"title\": \"Krish Naik\",\n",
    "        }),\n",
    "    Document(\n",
    "        page_content=\"I like Asian Baddies\",\n",
    "        metadata={\n",
    "            \"source\": \"My Brain\",\n",
    "            \"title\": \"My preference\",\n",
    "        }),\n",
    "    Document(\n",
    "        page_content=\"I am talking to a few girls right now\",\n",
    "        metadata={\n",
    "            \"source\": \"My Whatsapp chats\",\n",
    "            \"title\": \"Whatsapp\"\n",
    "        }),\n",
    "    Document(\n",
    "        page_content=\"Why am I like this? I don't know. The past has moulded me into this person. I am a product of my past experiences and choices.\",\n",
    "        metadata={\n",
    "            \"source\": \"My life experiences\",\n",
    "            \"title\": \"My Life\"})\n",
    "]"
   ]
  },
  {
   "cell_type": "code",
   "execution_count": 2,
   "id": "34671457",
   "metadata": {},
   "outputs": [
    {
     "data": {
      "text/plain": [
       "[Document(metadata={'source': 'https://www.youtube.com/@KrishNaik', 'title': 'Krish Naik'}, page_content='Krish Naik is a YouTuber and educator known for his work in the field of data science and machine learning. He creates educational content on platforms like YouTube, where he shares tutorials, courses, and insights related to data science, artificial intelligence, and programming. His videos often cover topics such as Python programming, machine learning algorithms, deep learning, and data visualization. Krish Naik is recognized for his engaging teaching style and practical approach to complex subjects, making them accessible to a wide audience.'),\n",
       " Document(metadata={'source': 'My Brain', 'title': 'My preference'}, page_content='I like Asian Baddies'),\n",
       " Document(metadata={'source': 'My Whatsapp chats', 'title': 'Whatsapp'}, page_content='I am talking to a few girls right now'),\n",
       " Document(metadata={'source': 'My life experiences', 'title': 'My Life'}, page_content=\"Why am I like this? I don't know. The past has moulded me into this person. I am a product of my past experiences and choices.\")]"
      ]
     },
     "execution_count": 2,
     "metadata": {},
     "output_type": "execute_result"
    }
   ],
   "source": [
    "documents"
   ]
  },
  {
   "cell_type": "code",
   "execution_count": null,
   "id": "c9213e80",
   "metadata": {},
   "outputs": [],
   "source": [
    "import os\n",
    "from dotenv import load_dotenv\n",
    "load_dotenv()\n",
    "\n",
    "from langchain_groq import ChatGroq\n",
    "\n",
    "groq_api_key = os.getenv(\"GROQ_API_KEY\")\n",
    "os.environ[\"HF_TOKEN\"] = os.getenv(\"HF_API_KEY\")\n",
    "\n",
    "llm = ChatGroq(groq_api_key=groq_api_key, model=\"Llama3-8b-8192\")\n",
    "llm"
   ]
  },
  {
   "cell_type": "code",
   "execution_count": 5,
   "id": "32b19119",
   "metadata": {},
   "outputs": [
    {
     "name": "stderr",
     "output_type": "stream",
     "text": [
      "/Users/jyo/Desktop/Projects/KN_Agents/.venv/lib/python3.13/site-packages/tqdm/auto.py:21: TqdmWarning: IProgress not found. Please update jupyter and ipywidgets. See https://ipywidgets.readthedocs.io/en/stable/user_install.html\n",
      "  from .autonotebook import tqdm as notebook_tqdm\n"
     ]
    }
   ],
   "source": [
    "from langchain_huggingface import HuggingFaceEmbeddings\n",
    "embeddings = HuggingFaceEmbeddings(model_name=\"all-MiniLM-L6-v2\")"
   ]
  },
  {
   "cell_type": "code",
   "execution_count": 7,
   "id": "f4470e39",
   "metadata": {},
   "outputs": [
    {
     "name": "stderr",
     "output_type": "stream",
     "text": [
      "/Users/jyo/Desktop/Projects/KN_Agents/.venv/lib/python3.13/site-packages/torch/nn/modules/module.py:1762: FutureWarning: `encoder_attention_mask` is deprecated and will be removed in version 4.55.0 for `BertSdpaSelfAttention.forward`.\n",
      "  return forward_call(*args, **kwargs)\n"
     ]
    }
   ],
   "source": [
    "from langchain_chroma import Chroma\n",
    "\n",
    "vectorstore = Chroma.from_documents(documents, embedding=embeddings)"
   ]
  },
  {
   "cell_type": "markdown",
   "id": "2a295ade",
   "metadata": {},
   "source": [
    "### Retriever"
   ]
  },
  {
   "cell_type": "code",
   "execution_count": 10,
   "id": "bca37733",
   "metadata": {},
   "outputs": [
    {
     "name": "stderr",
     "output_type": "stream",
     "text": [
      "/Users/jyo/Desktop/Projects/KN_Agents/.venv/lib/python3.13/site-packages/torch/nn/modules/module.py:1762: FutureWarning: `encoder_attention_mask` is deprecated and will be removed in version 4.55.0 for `BertSdpaSelfAttention.forward`.\n",
      "  return forward_call(*args, **kwargs)\n"
     ]
    },
    {
     "data": {
      "text/plain": [
       "[[Document(id='bf20ab26-c44a-4503-ad55-4b5eec82576f', metadata={'source': 'My Brain', 'title': 'My preference'}, page_content='I like Asian Baddies')],\n",
       " [Document(id='4c442210-41d9-4e67-b916-41114ca87512', metadata={'source': 'https://www.youtube.com/@KrishNaik', 'title': 'Krish Naik'}, page_content='Krish Naik is a YouTuber and educator known for his work in the field of data science and machine learning. He creates educational content on platforms like YouTube, where he shares tutorials, courses, and insights related to data science, artificial intelligence, and programming. His videos often cover topics such as Python programming, machine learning algorithms, deep learning, and data visualization. Krish Naik is recognized for his engaging teaching style and practical approach to complex subjects, making them accessible to a wide audience.')]]"
      ]
     },
     "execution_count": 10,
     "metadata": {},
     "output_type": "execute_result"
    }
   ],
   "source": [
    "from typing import List\n",
    "\n",
    "from langchain_core.documents import Document\n",
    "from langchain_core.runnables import RunnableLambda\n",
    "\n",
    "retriever = RunnableLambda(vectorstore.similarity_search).bind(k=1)\n",
    "retriever.batch(['Asia','life'])"
   ]
  },
  {
   "cell_type": "code",
   "execution_count": 11,
   "id": "1f0d9654",
   "metadata": {},
   "outputs": [
    {
     "name": "stderr",
     "output_type": "stream",
     "text": [
      "/Users/jyo/Desktop/Projects/KN_Agents/.venv/lib/python3.13/site-packages/torch/nn/modules/module.py:1762: FutureWarning: `encoder_attention_mask` is deprecated and will be removed in version 4.55.0 for `BertSdpaSelfAttention.forward`.\n",
      "  return forward_call(*args, **kwargs)\n"
     ]
    },
    {
     "data": {
      "text/plain": [
       "[[Document(id='bf20ab26-c44a-4503-ad55-4b5eec82576f', metadata={'title': 'My preference', 'source': 'My Brain'}, page_content='I like Asian Baddies')],\n",
       " [Document(id='4c442210-41d9-4e67-b916-41114ca87512', metadata={'source': 'https://www.youtube.com/@KrishNaik', 'title': 'Krish Naik'}, page_content='Krish Naik is a YouTuber and educator known for his work in the field of data science and machine learning. He creates educational content on platforms like YouTube, where he shares tutorials, courses, and insights related to data science, artificial intelligence, and programming. His videos often cover topics such as Python programming, machine learning algorithms, deep learning, and data visualization. Krish Naik is recognized for his engaging teaching style and practical approach to complex subjects, making them accessible to a wide audience.')]]"
      ]
     },
     "execution_count": 11,
     "metadata": {},
     "output_type": "execute_result"
    }
   ],
   "source": [
    "retriever=vectorstore.as_retriever(\n",
    "    search_type=\"similarity\",\n",
    "    search_kwargs={\"k\": 1}\n",
    ")\n",
    "\n",
    "retriever.batch(['Asia','life'])"
   ]
  },
  {
   "cell_type": "code",
   "execution_count": 13,
   "id": "f9294ae8",
   "metadata": {},
   "outputs": [
    {
     "data": {
      "text/plain": [
       "ChatGroq(client=<groq.resources.chat.completions.Completions object at 0x17e4be3c0>, async_client=<groq.resources.chat.completions.AsyncCompletions object at 0x17e4bef90>, model_name='Gemma2-9b-It', model_kwargs={}, groq_api_key=SecretStr('**********'))"
      ]
     },
     "execution_count": 13,
     "metadata": {},
     "output_type": "execute_result"
    }
   ],
   "source": [
    "from langchain_groq import ChatGroq\n",
    "model = ChatGroq(model=\"Gemma2-9b-It\", groq_api_key=groq_api_key)\n",
    "model"
   ]
  },
  {
   "cell_type": "code",
   "execution_count": 16,
   "id": "526b387f",
   "metadata": {},
   "outputs": [
    {
     "name": "stderr",
     "output_type": "stream",
     "text": [
      "/Users/jyo/Desktop/Projects/KN_Agents/.venv/lib/python3.13/site-packages/torch/nn/modules/module.py:1762: FutureWarning: `encoder_attention_mask` is deprecated and will be removed in version 4.55.0 for `BertSdpaSelfAttention.forward`.\n",
      "  return forward_call(*args, **kwargs)\n"
     ]
    },
    {
     "name": "stdout",
     "output_type": "stream",
     "text": [
      "Based on the provided text, you like Asian Baddies. \n",
      "\n"
     ]
    }
   ],
   "source": [
    "from langchain_core.prompts import ChatPromptTemplate\n",
    "from langchain_core.runnables import RunnablePassthrough\n",
    "\n",
    "message = \"\"\"\n",
    "Answer the question based on the context provided. If you don't know the answer, just say that you don't know, don't try to make up an answer.\n",
    "\n",
    "{question}\n",
    "\n",
    "Context:\n",
    "{context}\n",
    "\"\"\"\n",
    "prompt = ChatPromptTemplate.from_messages([(\"human\", message)])\n",
    "\n",
    "rag_chain = {\"context\": retriever, \"question\": RunnablePassthrough()}| prompt | model\n",
    "\n",
    "response = rag_chain.invoke(\"what do i like?\")\n",
    "print(response.content)"
   ]
  },
  {
   "cell_type": "code",
   "execution_count": null,
   "id": "67c46dfd",
   "metadata": {},
   "outputs": [],
   "source": []
  }
 ],
 "metadata": {
  "kernelspec": {
   "display_name": "KN_Agents",
   "language": "python",
   "name": "python3"
  },
  "language_info": {
   "codemirror_mode": {
    "name": "ipython",
    "version": 3
   },
   "file_extension": ".py",
   "mimetype": "text/x-python",
   "name": "python",
   "nbconvert_exporter": "python",
   "pygments_lexer": "ipython3",
   "version": "3.13.5"
  }
 },
 "nbformat": 4,
 "nbformat_minor": 5
}
