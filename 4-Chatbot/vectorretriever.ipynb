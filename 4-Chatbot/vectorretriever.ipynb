{
 "cells": [
  {
   "cell_type": "code",
   "execution_count": 4,
   "id": "e21050f0",
   "metadata": {},
   "outputs": [],
   "source": [
    "from langchain_core.documents import Document\n",
    "\n",
    "documents = [\n",
    "    Document(\n",
    "        page_content=\"Krish Naik is a YouTuber and educator known for his work in the field of data science and machine learning. He creates educational content on platforms like YouTube, where he shares tutorials, courses, and insights related to data science, artificial intelligence, and programming. His videos often cover topics such as Python programming, machine learning algorithms, deep learning, and data visualization. Krish Naik is recognized for his engaging teaching style and practical approach to complex subjects, making them accessible to a wide audience.\",\n",
    "        metadata={\n",
    "            \"source\": \"https://www.youtube.com/@KrishNaik\",\n",
    "            \"title\": \"Krish Naik\",\n",
    "        }),\n",
    "    Document(\n",
    "        page_content=\"I like Asian Baddies\",\n",
    "        metadata={\n",
    "            \"source\": \"My Brain\",\n",
    "            \"title\": \"My preference\",\n",
    "        }),\n",
    "    Document(\n",
    "        page_content=\"I am talking to a few girls right now\",\n",
    "        metadata={\n",
    "            \"source\": \"My Whatsapp chats\",\n",
    "            \"title\": \"Whatsapp\"\n",
    "        }),\n",
    "    Document(\n",
    "        page_content=\"Why am I like this? I don't know. The past has moulded me into this person. I am a product of my past experiences and choices.\",\n",
    "        metadata={\n",
    "            \"source\": \"My life experiences\",\n",
    "            \"title\": \"My Life\"})\n",
    "]"
   ]
  },
  {
   "cell_type": "code",
   "execution_count": 5,
   "id": "34671457",
   "metadata": {},
   "outputs": [
    {
     "data": {
      "text/plain": [
       "[Document(metadata={'source': 'https://www.youtube.com/@KrishNaik', 'title': 'Krish Naik'}, page_content='Krish Naik is a YouTuber and educator known for his work in the field of data science and machine learning. He creates educational content on platforms like YouTube, where he shares tutorials, courses, and insights related to data science, artificial intelligence, and programming. His videos often cover topics such as Python programming, machine learning algorithms, deep learning, and data visualization. Krish Naik is recognized for his engaging teaching style and practical approach to complex subjects, making them accessible to a wide audience.'),\n",
       " Document(metadata={'source': 'My Brain', 'title': 'My preference'}, page_content='I like Asian Baddies'),\n",
       " Document(metadata={'source': 'My Whatsapp chats', 'title': 'Whatsapp'}, page_content='I am talking to a few girls right now'),\n",
       " Document(metadata={'source': 'My life experiences', 'title': 'My Life'}, page_content=\"Why am I like this? I don't know. The past has moulded me into this person. I am a product of my past experiences and choices.\")]"
      ]
     },
     "execution_count": 5,
     "metadata": {},
     "output_type": "execute_result"
    }
   ],
   "source": [
    "documents"
   ]
  },
  {
   "cell_type": "code",
   "execution_count": null,
   "id": "c9213e80",
   "metadata": {},
   "outputs": [],
   "source": []
  }
 ],
 "metadata": {
  "kernelspec": {
   "display_name": "KN_Agents",
   "language": "python",
   "name": "python3"
  },
  "language_info": {
   "codemirror_mode": {
    "name": "ipython",
    "version": 3
   },
   "file_extension": ".py",
   "mimetype": "text/x-python",
   "name": "python",
   "nbconvert_exporter": "python",
   "pygments_lexer": "ipython3",
   "version": "3.13.5"
  }
 },
 "nbformat": 4,
 "nbformat_minor": 5
}
