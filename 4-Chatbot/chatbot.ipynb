{
 "cells": [
  {
   "cell_type": "markdown",
   "id": "5b5301e4",
   "metadata": {},
   "source": [
    "# Chat History"
   ]
  },
  {
   "cell_type": "code",
   "execution_count": 1,
   "id": "c0c2c8c5",
   "metadata": {},
   "outputs": [],
   "source": [
    "import os\n",
    "from dotenv import load_dotenv\n",
    "load_dotenv()\n",
    "\n",
    "groq_api_key = os.getenv(\"GROQ_API_KEY\")"
   ]
  },
  {
   "cell_type": "code",
   "execution_count": 2,
   "id": "0261a783",
   "metadata": {},
   "outputs": [
    {
     "data": {
      "text/plain": [
       "ChatGroq(client=<groq.resources.chat.completions.Completions object at 0x127e75fd0>, async_client=<groq.resources.chat.completions.AsyncCompletions object at 0x127e76ba0>, model_name='Gemma2-9b-It', model_kwargs={}, groq_api_key=SecretStr('**********'))"
      ]
     },
     "execution_count": 2,
     "metadata": {},
     "output_type": "execute_result"
    }
   ],
   "source": [
    "from langchain_groq import ChatGroq\n",
    "model = ChatGroq(model=\"Gemma2-9b-It\", groq_api_key=groq_api_key)\n",
    "model"
   ]
  },
  {
   "cell_type": "code",
   "execution_count": 4,
   "id": "e98febc9",
   "metadata": {},
   "outputs": [
    {
     "data": {
      "text/plain": [
       "AIMessage(content=\"Not much, just hanging out in the digital world, waiting to be helpful! What's going on with you? 😊\\n\", additional_kwargs={}, response_metadata={'token_usage': {'completion_tokens': 28, 'prompt_tokens': 15, 'total_tokens': 43, 'completion_time': 0.050909091, 'prompt_time': 0.001273899, 'queue_time': 0.253463101, 'total_time': 0.05218299}, 'model_name': 'Gemma2-9b-It', 'system_fingerprint': 'fp_10c08bf97d', 'service_tier': 'on_demand', 'finish_reason': 'stop', 'logprobs': None}, id='run--2d82d131-ff38-414f-9f09-b330bf89a163-0', usage_metadata={'input_tokens': 15, 'output_tokens': 28, 'total_tokens': 43})"
      ]
     },
     "execution_count": 4,
     "metadata": {},
     "output_type": "execute_result"
    }
   ],
   "source": [
    "from langchain_core.messages import HumanMessage\n",
    "model.invoke([HumanMessage(content=\"Yo what's up?\")])"
   ]
  },
  {
   "cell_type": "code",
   "execution_count": 3,
   "id": "a513975f",
   "metadata": {},
   "outputs": [],
   "source": [
    "# MESSAGE HISTORY\n",
    "from langchain_community.chat_message_histories import ChatMessageHistory\n",
    "from langchain_core.chat_history import BaseChatMessageHistory\n",
    "from langchain_core.runnables.history import RunnableWithMessageHistory\n",
    "\n",
    "store={}\n",
    "\n",
    "def get_session_history(session_id: str) ->BaseChatMessageHistory:\n",
    "    if session_id not in store:\n",
    "        store[session_id] = ChatMessageHistory()\n",
    "    return store[session_id]\n",
    "\n",
    "with_message_history = RunnableWithMessageHistory(model,get_session_history)"
   ]
  },
  {
   "cell_type": "code",
   "execution_count": 8,
   "id": "97398a1d",
   "metadata": {},
   "outputs": [],
   "source": [
    "config = {\"configurable\": {\"session_id\": \"chat1\"}}"
   ]
  },
  {
   "cell_type": "code",
   "execution_count": 13,
   "id": "cdb89e95",
   "metadata": {},
   "outputs": [],
   "source": [
    "response=with_message_history.invoke(\n",
    "    [HumanMessage(content=\"Yo what's up?\")],\n",
    "    config=config\n",
    ")"
   ]
  },
  {
   "cell_type": "code",
   "execution_count": 14,
   "id": "e4fd3e6a",
   "metadata": {},
   "outputs": [
    {
     "data": {
      "text/plain": [
       "\"Hey there! Not much, just chilling in the digital world, ready to chat. What's going on with you?  😎  \\n\""
      ]
     },
     "execution_count": 14,
     "metadata": {},
     "output_type": "execute_result"
    }
   ],
   "source": [
    "response.content"
   ]
  },
  {
   "cell_type": "code",
   "execution_count": null,
   "id": "c699f67c",
   "metadata": {},
   "outputs": [],
   "source": []
  },
  {
   "cell_type": "markdown",
   "id": "1cf211eb",
   "metadata": {},
   "source": [
    "# Prompt Templates"
   ]
  },
  {
   "cell_type": "code",
   "execution_count": 7,
   "id": "1261764e",
   "metadata": {},
   "outputs": [],
   "source": [
    "from langchain_core.prompts import ChatPromptTemplate, MessagesPlaceholder\n",
    "prompt = ChatPromptTemplate.from_messages(\n",
    "    [\n",
    "        (\"system\", \"You are a rizz master. Help me rizz up this girl in my chat\"),\n",
    "        MessagesPlaceholder(variable_name=\"messages\")\n",
    "    ]\n",
    ")\n",
    "chain = prompt | model"
   ]
  },
  {
   "cell_type": "code",
   "execution_count": 8,
   "id": "09f9d359",
   "metadata": {},
   "outputs": [
    {
     "data": {
      "text/plain": [
       "AIMessage(content=\"Okay, smooth operator, let's get this dinner date locked in.  I need some intel first though!\\n\\nTell me:\\n\\n* **What's her vibe?**  Funny?  Nerdy?  Adventurous? Knowing this helps me tailor the approach.\\n* **What have you been chatting about?** Any shared interests we can use to connect the date to the conversation?\\n* **What's your confidence level?**  Honesty here helps me craft something believable for you.\\n\\nOnce I have the lowdown, I'll give you lines that are smooth, confident, and irresistible.  Let's get you that date! 😎 \\n\\n\", additional_kwargs={}, response_metadata={'token_usage': {'completion_tokens': 142, 'prompt_tokens': 43, 'total_tokens': 185, 'completion_time': 0.258181818, 'prompt_time': 0.002188578, 'queue_time': 0.255218631, 'total_time': 0.260370396}, 'model_name': 'Gemma2-9b-It', 'system_fingerprint': 'fp_10c08bf97d', 'service_tier': 'on_demand', 'finish_reason': 'stop', 'logprobs': None}, id='run--170920b9-81bc-4da2-b227-69b95fc4653a-0', usage_metadata={'input_tokens': 43, 'output_tokens': 142, 'total_tokens': 185})"
      ]
     },
     "execution_count": 8,
     "metadata": {},
     "output_type": "execute_result"
    }
   ],
   "source": [
    "chain.invoke({\"messages\": [HumanMessage(content=\"How shall I ask her out for a dinner date? I'll pick her up\")]})"
   ]
  },
  {
   "cell_type": "code",
   "execution_count": 9,
   "id": "3c1847db",
   "metadata": {},
   "outputs": [],
   "source": [
    "with_message_history=RunnableWithMessageHistory(chain,get_session_history)"
   ]
  },
  {
   "cell_type": "code",
   "execution_count": 10,
   "id": "44e3525b",
   "metadata": {},
   "outputs": [
    {
     "data": {
      "text/plain": [
       "'Listen, I understand wanting to make a good impression, but ghosting someone for 5 years is a pretty big hurdle. \"Rizz\" won\\'t magically erase that.  \\n\\nInstead of focusing on cheesy pick-up lines, try being genuine and showing her you\\'ve grown:\\n\\n* **Acknowledge the elephant in the room:** \"Hey, I know it\\'s been a while... I owe you a huge apology for ghosting you back then. I\\'ve learned a lot since then and I\\'m really glad we reconnected.\"\\n* **Show genuine interest:** Ask her about her interests, hobbies, and what she\\'s been up to these past 5 years. Actively listen to her responses.\\n* **Be playful and build on the existing chemistry:**  You mentioned banter, so keep that going!  Remember inside jokes or funny moments you shared in the past. \\n* **Express excitement about her offer to cook:** \"I\\'m so excited about the cooking offer! What are you thinking of making?\" This shows you value her offer and are looking forward to spending time with her.\\n* **Be consistent and respectful:** Don\\'t disappear again! Be present and engaged in your conversations.\\n\\nRemember, building a genuine connection takes time and effort.  Focus on being a good listener, showing interest in her, and letting your true self shine through. \\n\\n**Bonus tip:** If you\\'re feeling nervous, a little self-deprecating humor can go a long way. Just keep it lighthearted and avoid making yourself the butt of the joke constantly. \\n\\n\\nGood luck! \\n\\n'"
      ]
     },
     "execution_count": 10,
     "metadata": {},
     "output_type": "execute_result"
    }
   ],
   "source": [
    "config = {\"configurable\": {\"session_id\": \"chat3\"}}\n",
    "response=with_message_history.invoke(\n",
    "    [HumanMessage(content=\"She's nerdy and introverted. I ghosted her for 5 years and restarted talking to her recently. It's going well so far talking to her, the same old banter and chemsitry is there between us. She once told me that she'll cook something for me\")],\n",
    "    config=config\n",
    ")\n",
    "response.content"
   ]
  },
  {
   "cell_type": "code",
   "execution_count": 11,
   "id": "8ac00367",
   "metadata": {},
   "outputs": [],
   "source": [
    "prompt = ChatPromptTemplate.from_messages(\n",
    "    [\n",
    "        (\n",
    "            \"system\",\n",
    "            \"You are a rizz master. Help me rizz up this girl in my chat! Answer in a way that is flirty, funny, and engaging. Use emojis to make it more lively. Give me the answer in {language}\"\n",
    "        ),\n",
    "        MessagesPlaceholder(variable_name=\"messages\")\n",
    "    ]\n",
    ")\n",
    "chain = prompt | model"
   ]
  },
  {
   "cell_type": "code",
   "execution_count": 13,
   "id": "0499fb0f",
   "metadata": {},
   "outputs": [
    {
     "data": {
      "text/plain": [
       "'Bruh, chill! 😌  \"Rizz\" isn\\'t some magic spell, ya know?  It\\'s about being genuine and making a connection.  \\n\\nHere\\'s the deal:\\n\\n**First Impressions (Jab tum miloge):**\\n\\n1. **Smile!** 😊  A genuine smile is like sunshine, it brightens up everyone\\'s day.\\n2. **Confidence is key!** 😎  Walk up to her, make eye contact, and introduce yourself. No need to be cocky, just be yourself!\\n3. **Find common ground!**  🎧  Start by asking about her interests. Maybe you both love music or movies?  Find something you can connect on.\\n\\n**Keeping the Conversation Flowing: **\\n\\n* **Be playful and tease her a little!** 😉 But keep it lighthearted, no need to be rude.\\n* **Listen actively!**  👂 Show her you\\'re interested in what she has to say.\\n* **Share some interesting stories about yourself!**  📖  But don\\'t go on and on, keep it concise and engaging.\\n\\n**Making Her Fall For You:**\\n\\n* **Be respectful and kind!**  🙏 Treat her with the same respect you\\'d want to be treated with.\\n* **Be a good listener!**  👂 Remember, everyone loves to feel heard and understood.\\n* **Be yourself!**  💯  Don\\'t try to be someone you\\'re not. Authenticity is attractive!\\n\\n\\nRemember,  love and attraction take time. Don\\'t rush things. Just be genuine, have fun, and let things unfold naturally. 😉 Good luck! 🍀\\n\\n'"
      ]
     },
     "execution_count": 13,
     "metadata": {},
     "output_type": "execute_result"
    }
   ],
   "source": [
    "response=chain.invoke({\"messages\":[HumanMessage(content=\"What shall I do when I meet her? Give me a plan to make her fall for me\")], \"language\": \"Hindi\"})\n",
    "response.content"
   ]
  },
  {
   "cell_type": "code",
   "execution_count": 15,
   "id": "06a85360",
   "metadata": {},
   "outputs": [],
   "source": [
    "with_message_history=RunnableWithMessageHistory(\n",
    "    chain,\n",
    "    get_session_history,\n",
    "    input_messages_key=\"messages\"\n",
    ")"
   ]
  },
  {
   "cell_type": "code",
   "execution_count": 16,
   "id": "59254fc2",
   "metadata": {},
   "outputs": [
    {
     "data": {
      "text/plain": [
       "\"Are you ready to make her melt? 🔥  \\n\\nLet's see... tell me something about this girl - what does she like? What's her vibe?  \\n\\nThe more you tell me, the more I can tailor the rizz to perfection 😉  \\n\\nP.S.  Gift ideas? 🤔  Maybe something quirky and fun, like a personalized mug with an inside joke or a cute plant for her desk 🪴.  \\n\\nBut remember, the best gift is always your genuine self! ✨ \\n\\n\\n\\n\""
      ]
     },
     "execution_count": 16,
     "metadata": {},
     "output_type": "execute_result"
    }
   ],
   "source": [
    "config = {\"configurable\": {\"session_id\": \"chat4\"}}\n",
    "response=with_message_history.invoke(\n",
    "    {\"messages\":[HumanMessage(content=\"Suggest an appropriate gift for her\")],\n",
    "    \"language\": \"Hindi\"},\n",
    "    config=config\n",
    ")\n",
    "response.content"
   ]
  },
  {
   "cell_type": "markdown",
   "id": "1f5d3d9c",
   "metadata": {},
   "source": [
    "# Managing Conversation History"
   ]
  },
  {
   "cell_type": "code",
   "execution_count": 21,
   "id": "a61ec975",
   "metadata": {},
   "outputs": [
    {
     "data": {
      "text/plain": [
       "[SystemMessage(content='You are a rizz master. Help me rizz up this girl in my chat! Answer in a way that is flirty, funny, and engaging. Use emojis to make it more lively.', additional_kwargs={}, response_metadata={}),\n",
       " HumanMessage(content=\"How shall I ask her out for a dinner date? I'll pick her up\", additional_kwargs={}, response_metadata={}),\n",
       " AIMessage(content=\"You can say something like, 'Hey, I was thinking it would be great to catch up over dinner. How about I pick you up this weekend? 😊'\", additional_kwargs={}, response_metadata={}),\n",
       " HumanMessage(content=\"She's nerdy and introverted. I ghosted her for 5 years and restarted talking to her recently. It's going well so far talking to her, the same old banter and chemsitry is there between us. She once told me that she'll cook something for me\", additional_kwargs={}, response_metadata={}),\n",
       " AIMessage(content=\"That's great to hear! You can say, 'I remember you mentioned cooking something for me. How about we plan a dinner date where you can show off your cooking skills? I promise to bring dessert! 🍰'\", additional_kwargs={}, response_metadata={}),\n",
       " HumanMessage(content='What shall I do when I meet her? Give me a plan to make her fall for me', additional_kwargs={}, response_metadata={}),\n",
       " AIMessage(content=\"When you meet her, start with a warm hug to break the ice. Compliment her on something specific, like her outfit or hairstyle. Engage her in a light conversation about her interests, and share some funny stories to keep the mood light. Offer to help her with something if she needs it, and suggest a fun activity you can do together after dinner. End the evening with a sweet note, like 'I had a great time, let's do this again soon! 😊'\", additional_kwargs={}, response_metadata={}),\n",
       " HumanMessage(content='Suggest an appropriate gift for her', additional_kwargs={}, response_metadata={}),\n",
       " AIMessage(content=\"A thoughtful gift could be a book from her favorite genre, a cute plant for her room, or a personalized item like a mug with a quote she loves. If she's into cooking, maybe a nice set of spices or a cookbook could be perfect. Just make sure it reflects her interests and shows that you care! 🎁\", additional_kwargs={}, response_metadata={})]"
      ]
     },
     "execution_count": 21,
     "metadata": {},
     "output_type": "execute_result"
    }
   ],
   "source": [
    "from langchain_core.messages import SystemMessage, trim_messages, AIMessage, HumanMessage\n",
    "trimmer = trim_messages(\n",
    "    max_tokens=1000,\n",
    "    strategy=\"last\",\n",
    "    token_counter=model,\n",
    "    include_system=True,\n",
    "    allow_partial=True,\n",
    "    start_on=\"human\" \n",
    ")\n",
    "messages=[\n",
    "    SystemMessage(content=\"You are a rizz master. Help me rizz up this girl in my chat! Answer in a way that is flirty, funny, and engaging. Use emojis to make it more lively.\"),\n",
    "    HumanMessage(content=\"How shall I ask her out for a dinner date? I'll pick her up\"),\n",
    "    AIMessage(content=\"You can say something like, 'Hey, I was thinking it would be great to catch up over dinner. How about I pick you up this weekend? 😊'\"),\n",
    "    HumanMessage(content=\"She's nerdy and introverted. I ghosted her for 5 years and restarted talking to her recently. It's going well so far talking to her, the same old banter and chemsitry is there between us. She once told me that she'll cook something for me\"),\n",
    "    AIMessage(content=\"That's great to hear! You can say, 'I remember you mentioned cooking something for me. How about we plan a dinner date where you can show off your cooking skills? I promise to bring dessert! 🍰'\"),\n",
    "    HumanMessage(content=\"What shall I do when I meet her? Give me a plan to make her fall for me\"),\n",
    "    AIMessage(content=\"When you meet her, start with a warm hug to break the ice. Compliment her on something specific, like her outfit or hairstyle. Engage her in a light conversation about her interests, and share some funny stories to keep the mood light. Offer to help her with something if she needs it, and suggest a fun activity you can do together after dinner. End the evening with a sweet note, like 'I had a great time, let's do this again soon! 😊'\"),\n",
    "    HumanMessage(content=\"Suggest an appropriate gift for her\"),\n",
    "    AIMessage(content=\"A thoughtful gift could be a book from her favorite genre, a cute plant for her room, or a personalized item like a mug with a quote she loves. If she's into cooking, maybe a nice set of spices or a cookbook could be perfect. Just make sure it reflects her interests and shows that you care! 🎁\")\n",
    "]\n",
    "trimmer.invoke(messages)"
   ]
  },
  {
   "cell_type": "code",
   "execution_count": 22,
   "id": "ada50e3f",
   "metadata": {},
   "outputs": [
    {
     "data": {
      "text/plain": [
       "\"Since she mentioned cooking for you, maybe start with a fun and casual place like a Korean BBQ where you can both enjoy the experience together!  🔥 Then, end the night with a scoop (or two!) of ice cream at a cute local spot.  🍨 It's a good mix of playful and romantic! 🥰\\n\\n\\n\\n\""
      ]
     },
     "execution_count": 22,
     "metadata": {},
     "output_type": "execute_result"
    }
   ],
   "source": [
    "from operator import itemgetter\n",
    "\n",
    "from langchain_core.runnables import RunnablePassthrough\n",
    "chain = (\n",
    "    RunnablePassthrough.assign(messages=itemgetter(\"messages\")|trimmer)\n",
    "    |prompt|model\n",
    ")\n",
    "response=chain.invoke({\n",
    "    \"messages\": messages+[HumanMessage(content=\"Where shall we go for dinner/lunch? Fast food or korean? Ice cream somewhere afterwards?\")],\n",
    "    \"language\": \"English\"\n",
    "})\n",
    "response.content"
   ]
  },
  {
   "cell_type": "code",
   "execution_count": null,
   "id": "f59ad668",
   "metadata": {},
   "outputs": [],
   "source": []
  }
 ],
 "metadata": {
  "kernelspec": {
   "display_name": "KN_Agents",
   "language": "python",
   "name": "python3"
  },
  "language_info": {
   "codemirror_mode": {
    "name": "ipython",
    "version": 3
   },
   "file_extension": ".py",
   "mimetype": "text/x-python",
   "name": "python",
   "nbconvert_exporter": "python",
   "pygments_lexer": "ipython3",
   "version": "3.13.5"
  }
 },
 "nbformat": 4,
 "nbformat_minor": 5
}
