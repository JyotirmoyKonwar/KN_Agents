{
 "cells": [
  {
   "cell_type": "code",
   "execution_count": 7,
   "id": "9d911d4a",
   "metadata": {},
   "outputs": [],
   "source": [
    "import os\n",
    "from dotenv import load_dotenv\n",
    "load_dotenv()\n",
    "\n",
    "os.environ[\"GROQ_API_KEY\"] = os.getenv(\"GROQ_API_KEY\")"
   ]
  },
  {
   "cell_type": "code",
   "execution_count": 8,
   "id": "2a11cb48",
   "metadata": {},
   "outputs": [
    {
     "name": "stdout",
     "output_type": "stream",
     "text": [
      "==================================\u001b[1m Ai Message \u001b[0m==================================\n",
      "Name: LLM\n",
      "\n",
      "Hello! How may I help you?\n",
      "================================\u001b[1m Human Message \u001b[0m=================================\n",
      "Name: Jyo\n",
      "\n",
      "I want to cook and omlette\n",
      "==================================\u001b[1m Ai Message \u001b[0m==================================\n",
      "Name: LLM\n",
      "\n",
      "What ingredients do you have?\n",
      "================================\u001b[1m Human Message \u001b[0m=================================\n",
      "Name: Jyo\n",
      "\n",
      "I have eggs, oil, salt and ice cream\n"
     ]
    }
   ],
   "source": [
    "from langchain_core.messages import AIMessage, HumanMessage\n",
    "from pprint import pprint\n",
    "\n",
    "messages = [AIMessage(content=f\"Hello! How may I help you?\",name=\"LLM\")]\n",
    "messages.append(HumanMessage(content=f\"I want to cook and omlette\",name=\"Jyo\"))\n",
    "messages.append(AIMessage(content=f\"What ingredients do you have?\",name=\"LLM\"))\n",
    "messages.append(HumanMessage(content=f\"I have eggs, oil, salt and ice cream\",name=\"Jyo\"))\n",
    "\n",
    "\n",
    "for message in messages:\n",
    "    message.pretty_print()"
   ]
  },
  {
   "cell_type": "markdown",
   "id": "b2d9a79c",
   "metadata": {},
   "source": [
    "### Chat Models"
   ]
  },
  {
   "cell_type": "code",
   "execution_count": 10,
   "id": "ef2d3c9c",
   "metadata": {},
   "outputs": [],
   "source": [
    "from langchain_groq import ChatGroq\n",
    "llm=ChatGroq(model=\"Gemma2-9b-It\")\n",
    "result=llm.invoke(messages)"
   ]
  },
  {
   "cell_type": "code",
   "execution_count": 11,
   "id": "d7a17bab",
   "metadata": {},
   "outputs": [
    {
     "data": {
      "text/plain": [
       "{'token_usage': {'completion_tokens': 313,\n",
       "  'prompt_tokens': 60,\n",
       "  'total_tokens': 373,\n",
       "  'completion_time': 0.569090909,\n",
       "  'prompt_time': 0.001786598,\n",
       "  'queue_time': 0.253384601,\n",
       "  'total_time': 0.570877507},\n",
       " 'model_name': 'Gemma2-9b-It',\n",
       " 'system_fingerprint': 'fp_10c08bf97d',\n",
       " 'service_tier': 'on_demand',\n",
       " 'finish_reason': 'stop',\n",
       " 'logprobs': None}"
      ]
     },
     "execution_count": 11,
     "metadata": {},
     "output_type": "execute_result"
    }
   ],
   "source": [
    "result.response_metadata"
   ]
  },
  {
   "cell_type": "markdown",
   "id": "5514061e",
   "metadata": {},
   "source": [
    "### Tools"
   ]
  },
  {
   "cell_type": "code",
   "execution_count": 1,
   "id": "6a1de254",
   "metadata": {},
   "outputs": [],
   "source": [
    "def add(a:int,b:int) -> int:\n",
    "    \"\"\"Add a and b\n",
    "    Args:\n",
    "        a (int): The first int\n",
    "        b (int): The second int\n",
    "    \n",
    "        Returns:\n",
    "        int\n",
    "    \"\"\"\n",
    "    \n",
    "    return a + b"
   ]
  },
  {
   "cell_type": "code",
   "execution_count": 3,
   "id": "d317613c",
   "metadata": {},
   "outputs": [],
   "source": [
    "from langchain_groq import ChatGroq\n",
    "llm=ChatGroq(model=\"Gemma2-9b-It\")"
   ]
  },
  {
   "cell_type": "code",
   "execution_count": 4,
   "id": "6c5881b1",
   "metadata": {},
   "outputs": [
    {
     "data": {
      "text/plain": [
       "ChatGroq(client=<groq.resources.chat.completions.Completions object at 0x10624e660>, async_client=<groq.resources.chat.completions.AsyncCompletions object at 0x10624f230>, model_name='Gemma2-9b-It', model_kwargs={}, groq_api_key=SecretStr('**********'))"
      ]
     },
     "execution_count": 4,
     "metadata": {},
     "output_type": "execute_result"
    }
   ],
   "source": [
    "llm"
   ]
  },
  {
   "cell_type": "code",
   "execution_count": 10,
   "id": "de597ca2",
   "metadata": {},
   "outputs": [],
   "source": [
    "llm_with_tools=llm.bind_tools([add])\n",
    "\n",
    "toolcall=llm_with_tools.invoke([HumanMessage(content=f\"what is 69 plus 420?\",name=\"Jyo\")])"
   ]
  },
  {
   "cell_type": "code",
   "execution_count": 11,
   "id": "e16731c3",
   "metadata": {},
   "outputs": [
    {
     "data": {
      "text/plain": [
       "[{'name': 'add',\n",
       "  'args': {'a': 69, 'b': 420},\n",
       "  'id': '0h1w3z7b0',\n",
       "  'type': 'tool_call'}]"
      ]
     },
     "execution_count": 11,
     "metadata": {},
     "output_type": "execute_result"
    }
   ],
   "source": [
    "toolcall.tool_calls"
   ]
  },
  {
   "cell_type": "markdown",
   "id": "2d0c6bd2",
   "metadata": {},
   "source": [
    "### Using messages as state"
   ]
  },
  {
   "cell_type": "code",
   "execution_count": 12,
   "id": "1ac3423d",
   "metadata": {},
   "outputs": [],
   "source": [
    "from typing_extensions import TypedDict\n",
    "from langchain_core.messages import AnyMessage\n",
    "\n",
    "class State(TypedDict):\n",
    "    message:list[AnyMessage]"
   ]
  },
  {
   "cell_type": "code",
   "execution_count": 13,
   "id": "09e1e987",
   "metadata": {},
   "outputs": [],
   "source": [
    "from langgraph.graph.message import add_messages\n",
    "from typing import Annotated\n",
    "class State(TypedDict):\n",
    "    messages:Annotated[list[AnyMessage], add_messages]"
   ]
  },
  {
   "cell_type": "code",
   "execution_count": 14,
   "id": "2b0a9792",
   "metadata": {},
   "outputs": [
    {
     "data": {
      "text/plain": [
       "[AIMessage(content='Hello! How may I help you?', additional_kwargs={}, response_metadata={}, name='LLM'),\n",
       " HumanMessage(content='I want to cook and omlette', additional_kwargs={}, response_metadata={}, name='Jyo'),\n",
       " AIMessage(content='What ingredients do you have?', additional_kwargs={}, response_metadata={}, name='LLM'),\n",
       " HumanMessage(content='I have eggs, oil, salt and ice cream', additional_kwargs={}, response_metadata={}, name='Jyo')]"
      ]
     },
     "execution_count": 14,
     "metadata": {},
     "output_type": "execute_result"
    }
   ],
   "source": [
    "initial_messages = [AIMessage(content=f\"Hello! How may I help you?\",name=\"LLM\")]\n",
    "initial_messages.append(HumanMessage(content=f\"I want to cook and omlette\",name=\"Jyo\"))\n",
    "initial_messages.append(AIMessage(content=f\"What ingredients do you have?\",name=\"LLM\"))\n",
    "initial_messages.append(HumanMessage(content=f\"I have eggs, oil, salt and ice cream\",name=\"Jyo\"))\n",
    "initial_messages"
   ]
  },
  {
   "cell_type": "code",
   "execution_count": 15,
   "id": "1b102ed9",
   "metadata": {},
   "outputs": [
    {
     "data": {
      "text/plain": [
       "AIMessage(content=\"Don't add ice cream in the recipe!\", additional_kwargs={}, response_metadata={}, name='LLM')"
      ]
     },
     "execution_count": 15,
     "metadata": {},
     "output_type": "execute_result"
    }
   ],
   "source": [
    "ai_message=AIMessage(content=f\"Don't add ice cream in the recipe!\",name=\"LLM\")\n",
    "ai_message"
   ]
  },
  {
   "cell_type": "code",
   "execution_count": 16,
   "id": "cf2a65ab",
   "metadata": {},
   "outputs": [
    {
     "data": {
      "text/plain": [
       "[AIMessage(content='Hello! How may I help you?', additional_kwargs={}, response_metadata={}, name='LLM', id='a42c8e7b-477c-48e4-98c2-3a5ab4ac5446'),\n",
       " HumanMessage(content='I want to cook and omlette', additional_kwargs={}, response_metadata={}, name='Jyo', id='f95e5635-db84-4ed4-af80-332fea433abf'),\n",
       " AIMessage(content='What ingredients do you have?', additional_kwargs={}, response_metadata={}, name='LLM', id='c028a681-3da5-4980-81c0-3e8411e56bb0'),\n",
       " HumanMessage(content='I have eggs, oil, salt and ice cream', additional_kwargs={}, response_metadata={}, name='Jyo', id='cb2e0d8f-e4ef-4897-a48a-a397e58e3453'),\n",
       " AIMessage(content=\"Don't add ice cream in the recipe!\", additional_kwargs={}, response_metadata={}, name='LLM', id='05948b82-27cb-4ca8-9101-962a7e9419c4')]"
      ]
     },
     "execution_count": 16,
     "metadata": {},
     "output_type": "execute_result"
    }
   ],
   "source": [
    "add_messages(initial_messages,ai_message)"
   ]
  },
  {
   "cell_type": "code",
   "execution_count": 17,
   "id": "4871fbc1",
   "metadata": {},
   "outputs": [],
   "source": [
    "def llm_tools(state:State):\n",
    "    return {\"messages\":[llm_with_tools.invoke(state[\"messages\"])]}"
   ]
  },
  {
   "cell_type": "code",
   "execution_count": 18,
   "id": "88fcb003",
   "metadata": {},
   "outputs": [
    {
     "data": {
      "image/png": "[encoded data removed]",
      "text/plain": [
       "<IPython.core.display.Image object>"
      ]
     },
     "metadata": {},
     "output_type": "display_data"
    }
   ],
   "source": [
    "from IPython.display import display, Image\n",
    "from langgraph.graph import StateGraph,START,END\n",
    "\n",
    "builder=StateGraph(State)\n",
    "\n",
    "builder.add_node(\"llm_tools\",llm_tools)\n",
    "\n",
    "builder.add_edge(START,\"llm_tools\")\n",
    "builder.add_edge(\"llm_tools\",END)\n",
    "\n",
    "graph = builder.compile()\n",
    "\n",
    "display(Image(graph.get_graph().draw_mermaid_png()))"
   ]
  },
  {
   "cell_type": "code",
   "execution_count": 21,
   "id": "ba8b0790",
   "metadata": {},
   "outputs": [
    {
     "name": "stdout",
     "output_type": "stream",
     "text": [
      "================================\u001b[1m Human Message \u001b[0m=================================\n",
      "\n",
      "What is 69 plus 420?\n",
      "==================================\u001b[1m Ai Message \u001b[0m==================================\n",
      "Tool Calls:\n",
      "  add (6cgrnwnk1)\n",
      " Call ID: 6cgrnwnk1\n",
      "  Args:\n",
      "    a: 69\n",
      "    b: 420\n"
     ]
    }
   ],
   "source": [
    "messages= graph.invoke({\"messages\":\"What is 69 plus 420?\"})\n",
    "for message in messages[\"messages\"]:\n",
    "    message.pretty_print()"
   ]
  },
  {
   "cell_type": "code",
   "execution_count": 23,
   "id": "984a6c03",
   "metadata": {},
   "outputs": [],
   "source": [
    "tools=[add]"
   ]
  },
  {
   "cell_type": "code",
   "execution_count": 26,
   "id": "5860fa61",
   "metadata": {},
   "outputs": [],
   "source": [
    "from langgraph.prebuilt import ToolNode\n",
    "from langgraph.prebuilt import tools_condition\n",
    "\n",
    "builder = StateGraph(State)\n",
    "\n",
    "builder.add_node(\"llm_tools\", llm_tools)\n",
    "builder.add_node(\"tools\", ToolNode(tools))\n",
    "\n",
    "builder.add_edge(START, \"llm_tools\")\n",
    "builder.add_conditional_edges(\n",
    "    \"llm_tools\",\n",
    "    tools_condition\n",
    ")\n",
    "builder.add_edge(\"tools\",END)\n",
    "\n",
    "graph_builder=builder.compile()\n"
   ]
  },
  {
   "cell_type": "code",
   "execution_count": 28,
   "id": "bb142076",
   "metadata": {},
   "outputs": [
    {
     "data": {
      "image/png": "[encoded data removed]",
      "text/plain": [
       "<IPython.core.display.Image object>"
      ]
     },
     "metadata": {},
     "output_type": "display_data"
    }
   ],
   "source": [
    "display(Image(graph_builder.get_graph().draw_mermaid_png()))"
   ]
  },
  {
   "cell_type": "code",
   "execution_count": 29,
   "id": "b57c4fb9",
   "metadata": {},
   "outputs": [
    {
     "name": "stdout",
     "output_type": "stream",
     "text": [
      "================================\u001b[1m Human Message \u001b[0m=================================\n",
      "\n",
      "What is 69 plus 420?\n",
      "==================================\u001b[1m Ai Message \u001b[0m==================================\n",
      "Tool Calls:\n",
      "  add (f7faj33qx)\n",
      " Call ID: f7faj33qx\n",
      "  Args:\n",
      "    a: 69\n",
      "    b: 420\n",
      "=================================\u001b[1m Tool Message \u001b[0m=================================\n",
      "Name: add\n",
      "\n",
      "489\n"
     ]
    }
   ],
   "source": [
    "messages= graph_builder.invoke({\"messages\":\"What is 69 plus 420?\"})\n",
    "for message in messages[\"messages\"]:\n",
    "    message.pretty_print()"
   ]
  },
  {
   "cell_type": "code",
   "execution_count": 32,
   "id": "4b6ba2bc",
   "metadata": {},
   "outputs": [
    {
     "name": "stdout",
     "output_type": "stream",
     "text": [
      "================================\u001b[1m Human Message \u001b[0m=================================\n",
      "\n",
      "What is Machine Learning?\n",
      "==================================\u001b[1m Ai Message \u001b[0m==================================\n",
      "Tool Calls:\n",
      "  add (2mn8atcy4)\n",
      " Call ID: 2mn8atcy4\n",
      "  Args:\n",
      "    a: 2\n",
      "    b: 3\n",
      "=================================\u001b[1m Tool Message \u001b[0m=================================\n",
      "Name: add\n",
      "\n",
      "5\n"
     ]
    }
   ],
   "source": [
    "messages= graph_builder.invoke({\"messages\":\"What is Machine Learning?\"})\n",
    "for message in messages[\"messages\"]:\n",
    "    message.pretty_print()"
   ]
  },
  {
   "cell_type": "markdown",
   "id": "28b97f77",
   "metadata": {},
   "source": [
    "# IDK Why this happened?"
   ]
  },
  {
   "cell_type": "code",
   "execution_count": null,
   "id": "92d0ad99",
   "metadata": {},
   "outputs": [],
   "source": []
  }
 ],
 "metadata": {
  "kernelspec": {
   "display_name": "KN_Agents",
   "language": "python",
   "name": "python3"
  },
  "language_info": {
   "codemirror_mode": {
    "name": "ipython",
    "version": 3
   },
   "file_extension": ".py",
   "mimetype": "text/x-python",
   "name": "python",
   "nbconvert_exporter": "python",
   "pygments_lexer": "ipython3",
   "version": "3.13.5"
  }
 },
 "nbformat": 4,
 "nbformat_minor": 5
}
