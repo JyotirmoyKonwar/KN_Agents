{
 "cells": [
  {
   "cell_type": "markdown",
   "id": "ab04bd44",
   "metadata": {},
   "source": [
    "# LCEL App"
   ]
  },
  {
   "cell_type": "code",
   "execution_count": 2,
   "id": "12b0bb53",
   "metadata": {},
   "outputs": [],
   "source": [
    "import os\n",
    "from dotenv import load_dotenv\n",
    "load_dotenv()\n",
    "groq_api_key = os.getenv(\"GROQ_API_KEY\")"
   ]
  },
  {
   "cell_type": "code",
   "execution_count": 3,
   "id": "b7d591b9",
   "metadata": {},
   "outputs": [],
   "source": [
    "from langchain_groq import ChatGroq\n",
    "model = ChatGroq(model=\"Gemma2-9b-It\",groq_api_key=groq_api_key)"
   ]
  },
  {
   "cell_type": "code",
   "execution_count": 10,
   "id": "b0c160e2",
   "metadata": {},
   "outputs": [],
   "source": [
    "from langchain_core.messages import HumanMessage, SystemMessage\n",
    "\n",
    "messages = [\n",
    "    SystemMessage(content = \"ONLY Translate the following from English to German an nothing else\"),\n",
    "    HumanMessage(content = \"Hello how are you?\")\n",
    "]\n",
    "result = model.invoke(messages)"
   ]
  },
  {
   "cell_type": "code",
   "execution_count": 11,
   "id": "d36e8f89",
   "metadata": {},
   "outputs": [
    {
     "data": {
      "text/plain": [
       "'Hallo, wie geht es dir? \\n'"
      ]
     },
     "execution_count": 11,
     "metadata": {},
     "output_type": "execute_result"
    }
   ],
   "source": [
    "from langchain_core.output_parsers import StrOutputParser\n",
    "parser = StrOutputParser()\n",
    "parser.invoke(result)"
   ]
  },
  {
   "cell_type": "code",
   "execution_count": 12,
   "id": "c356f5c1",
   "metadata": {},
   "outputs": [
    {
     "data": {
      "text/plain": [
       "'Hallo, wie geht es dir? \\n'"
      ]
     },
     "execution_count": 12,
     "metadata": {},
     "output_type": "execute_result"
    }
   ],
   "source": [
    "chain = model|parser\n",
    "chain.invoke(messages)"
   ]
  },
  {
   "cell_type": "code",
   "execution_count": 13,
   "id": "708705f3",
   "metadata": {},
   "outputs": [],
   "source": [
    "from langchain_core.prompts import ChatPromptTemplate\n",
    "\n",
    "generic_template = \"ONLY Translate the following into {language} and nothing else:\"\n",
    "\n",
    "prompt = ChatPromptTemplate.from_messages(\n",
    "    [(\"system\",generic_template),(\"user\",\"{text}\")]\n",
    ")"
   ]
  },
  {
   "cell_type": "code",
   "execution_count": 15,
   "id": "edcf7b86",
   "metadata": {},
   "outputs": [],
   "source": [
    "result = prompt.invoke({\"language\":\"Spanish\",\"text\":\"Hello World! Yes!\"})"
   ]
  },
  {
   "cell_type": "code",
   "execution_count": 16,
   "id": "f62b3e56",
   "metadata": {},
   "outputs": [
    {
     "data": {
      "text/plain": [
       "[SystemMessage(content='ONLY Translate the following into Spanish and nothing else:', additional_kwargs={}, response_metadata={}),\n",
       " HumanMessage(content='Hello World! Yes!', additional_kwargs={}, response_metadata={})]"
      ]
     },
     "execution_count": 16,
     "metadata": {},
     "output_type": "execute_result"
    }
   ],
   "source": [
    "result.to_messages()"
   ]
  },
  {
   "cell_type": "code",
   "execution_count": 18,
   "id": "83168268",
   "metadata": {},
   "outputs": [
    {
     "data": {
      "text/plain": [
       "'Hola Mundo! Sí! \\n'"
      ]
     },
     "execution_count": 18,
     "metadata": {},
     "output_type": "execute_result"
    }
   ],
   "source": [
    "chain = prompt|model|parser\n",
    "chain.invoke({\"language\":\"Spanish\",\"text\":\"Hello World! Yes!\"})"
   ]
  },
  {
   "cell_type": "code",
   "execution_count": null,
   "id": "235f56a9",
   "metadata": {},
   "outputs": [],
   "source": [
    "  "
   ]
  }
 ],
 "metadata": {
  "kernelspec": {
   "display_name": "KN_Agents",
   "language": "python",
   "name": "python3"
  },
  "language_info": {
   "codemirror_mode": {
    "name": "ipython",
    "version": 3
   },
   "file_extension": ".py",
   "mimetype": "text/x-python",
   "name": "python",
   "nbconvert_exporter": "python",
   "pygments_lexer": "ipython3",
   "version": "3.13.5"
  }
 },
 "nbformat": 4,
 "nbformat_minor": 5
}
